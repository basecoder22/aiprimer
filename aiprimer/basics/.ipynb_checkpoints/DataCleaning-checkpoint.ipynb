{
 "cells": [
  {
   "cell_type": "markdown",
   "metadata": {},
   "source": [
    "# Predicting Diabetes"
   ]
  },
  {
   "cell_type": "markdown",
   "metadata": {},
   "source": [
    "## Import Libraries"
   ]
  },
  {
   "cell_type": "code",
   "execution_count": 2,
   "metadata": {
    "collapsed": true
   },
   "outputs": [],
   "source": [
    "import pandas as pd\n",
    "import matplotlib.pyplot as plt\n",
    "import numpy as np\n",
    "\n",
    "# Do plotting inline instead of seperate window\n",
    "%matplotlib inline"
   ]
  },
  {
   "cell_type": "markdown",
   "metadata": {},
   "source": [
    "## Load data"
   ]
  },
  {
   "cell_type": "code",
   "execution_count": 3,
   "metadata": {
    "collapsed": true
   },
   "outputs": [],
   "source": [
    "df = pd.read_csv(r'C:\\Users\\anarayan\\Downloads\\MachineLearningWithPython-master\\MachineLearningWithPython-master\\Notebooks\\data\\pima-data.csv')"
   ]
  },
  {
   "cell_type": "code",
   "execution_count": 4,
   "metadata": {},
   "outputs": [
    {
     "data": {
      "text/plain": [
       "(768, 10)"
      ]
     },
     "execution_count": 4,
     "metadata": {},
     "output_type": "execute_result"
    }
   ],
   "source": [
    "df.shape"
   ]
  },
  {
   "cell_type": "code",
   "execution_count": 5,
   "metadata": {},
   "outputs": [
    {
     "data": {
      "text/html": [
       "<div style=\"max-height:1000px;max-width:1500px;overflow:auto;\">\n",
       "<table border=\"1\" class=\"dataframe\">\n",
       "  <thead>\n",
       "    <tr style=\"text-align: right;\">\n",
       "      <th></th>\n",
       "      <th>num_preg</th>\n",
       "      <th>glucose_conc</th>\n",
       "      <th>diastolic_bp</th>\n",
       "      <th>thickness</th>\n",
       "      <th>insulin</th>\n",
       "      <th>bmi</th>\n",
       "      <th>diab_pred</th>\n",
       "      <th>age</th>\n",
       "      <th>skin</th>\n",
       "      <th>diabetes</th>\n",
       "    </tr>\n",
       "  </thead>\n",
       "  <tbody>\n",
       "    <tr>\n",
       "      <th>0</th>\n",
       "      <td> 6</td>\n",
       "      <td> 148</td>\n",
       "      <td> 72</td>\n",
       "      <td> 35</td>\n",
       "      <td>   0</td>\n",
       "      <td> 33.6</td>\n",
       "      <td> 0.627</td>\n",
       "      <td> 50</td>\n",
       "      <td> 1.3790</td>\n",
       "      <td>  True</td>\n",
       "    </tr>\n",
       "    <tr>\n",
       "      <th>1</th>\n",
       "      <td> 1</td>\n",
       "      <td>  85</td>\n",
       "      <td> 66</td>\n",
       "      <td> 29</td>\n",
       "      <td>   0</td>\n",
       "      <td> 26.6</td>\n",
       "      <td> 0.351</td>\n",
       "      <td> 31</td>\n",
       "      <td> 1.1426</td>\n",
       "      <td> False</td>\n",
       "    </tr>\n",
       "    <tr>\n",
       "      <th>2</th>\n",
       "      <td> 8</td>\n",
       "      <td> 183</td>\n",
       "      <td> 64</td>\n",
       "      <td>  0</td>\n",
       "      <td>   0</td>\n",
       "      <td> 23.3</td>\n",
       "      <td> 0.672</td>\n",
       "      <td> 32</td>\n",
       "      <td> 0.0000</td>\n",
       "      <td>  True</td>\n",
       "    </tr>\n",
       "    <tr>\n",
       "      <th>3</th>\n",
       "      <td> 1</td>\n",
       "      <td>  89</td>\n",
       "      <td> 66</td>\n",
       "      <td> 23</td>\n",
       "      <td>  94</td>\n",
       "      <td> 28.1</td>\n",
       "      <td> 0.167</td>\n",
       "      <td> 21</td>\n",
       "      <td> 0.9062</td>\n",
       "      <td> False</td>\n",
       "    </tr>\n",
       "    <tr>\n",
       "      <th>4</th>\n",
       "      <td> 0</td>\n",
       "      <td> 137</td>\n",
       "      <td> 40</td>\n",
       "      <td> 35</td>\n",
       "      <td> 168</td>\n",
       "      <td> 43.1</td>\n",
       "      <td> 2.288</td>\n",
       "      <td> 33</td>\n",
       "      <td> 1.3790</td>\n",
       "      <td>  True</td>\n",
       "    </tr>\n",
       "  </tbody>\n",
       "</table>\n",
       "</div>"
      ],
      "text/plain": [
       "   num_preg  glucose_conc  diastolic_bp  thickness  insulin   bmi  diab_pred  \\\n",
       "0         6           148            72         35        0  33.6      0.627   \n",
       "1         1            85            66         29        0  26.6      0.351   \n",
       "2         8           183            64          0        0  23.3      0.672   \n",
       "3         1            89            66         23       94  28.1      0.167   \n",
       "4         0           137            40         35      168  43.1      2.288   \n",
       "\n",
       "   age    skin diabetes  \n",
       "0   50  1.3790     True  \n",
       "1   31  1.1426    False  \n",
       "2   32  0.0000     True  \n",
       "3   21  0.9062    False  \n",
       "4   33  1.3790     True  "
      ]
     },
     "execution_count": 5,
     "metadata": {},
     "output_type": "execute_result"
    }
   ],
   "source": [
    "df.head(5)"
   ]
  },
  {
   "cell_type": "code",
   "execution_count": 6,
   "metadata": {},
   "outputs": [
    {
     "data": {
      "text/html": [
       "<div style=\"max-height:1000px;max-width:1500px;overflow:auto;\">\n",
       "<table border=\"1\" class=\"dataframe\">\n",
       "  <thead>\n",
       "    <tr style=\"text-align: right;\">\n",
       "      <th></th>\n",
       "      <th>num_preg</th>\n",
       "      <th>glucose_conc</th>\n",
       "      <th>diastolic_bp</th>\n",
       "      <th>thickness</th>\n",
       "      <th>insulin</th>\n",
       "      <th>bmi</th>\n",
       "      <th>diab_pred</th>\n",
       "      <th>age</th>\n",
       "      <th>skin</th>\n",
       "      <th>diabetes</th>\n",
       "    </tr>\n",
       "  </thead>\n",
       "  <tbody>\n",
       "    <tr>\n",
       "      <th>763</th>\n",
       "      <td> 10</td>\n",
       "      <td> 101</td>\n",
       "      <td> 76</td>\n",
       "      <td> 48</td>\n",
       "      <td> 180</td>\n",
       "      <td> 32.9</td>\n",
       "      <td> 0.171</td>\n",
       "      <td> 63</td>\n",
       "      <td> 1.8912</td>\n",
       "      <td> False</td>\n",
       "    </tr>\n",
       "    <tr>\n",
       "      <th>764</th>\n",
       "      <td>  2</td>\n",
       "      <td> 122</td>\n",
       "      <td> 70</td>\n",
       "      <td> 27</td>\n",
       "      <td>   0</td>\n",
       "      <td> 36.8</td>\n",
       "      <td> 0.340</td>\n",
       "      <td> 27</td>\n",
       "      <td> 1.0638</td>\n",
       "      <td> False</td>\n",
       "    </tr>\n",
       "    <tr>\n",
       "      <th>765</th>\n",
       "      <td>  5</td>\n",
       "      <td> 121</td>\n",
       "      <td> 72</td>\n",
       "      <td> 23</td>\n",
       "      <td> 112</td>\n",
       "      <td> 26.2</td>\n",
       "      <td> 0.245</td>\n",
       "      <td> 30</td>\n",
       "      <td> 0.9062</td>\n",
       "      <td> False</td>\n",
       "    </tr>\n",
       "    <tr>\n",
       "      <th>766</th>\n",
       "      <td>  1</td>\n",
       "      <td> 126</td>\n",
       "      <td> 60</td>\n",
       "      <td>  0</td>\n",
       "      <td>   0</td>\n",
       "      <td> 30.1</td>\n",
       "      <td> 0.349</td>\n",
       "      <td> 47</td>\n",
       "      <td> 0.0000</td>\n",
       "      <td>  True</td>\n",
       "    </tr>\n",
       "    <tr>\n",
       "      <th>767</th>\n",
       "      <td>  1</td>\n",
       "      <td>  93</td>\n",
       "      <td> 70</td>\n",
       "      <td> 31</td>\n",
       "      <td>   0</td>\n",
       "      <td> 30.4</td>\n",
       "      <td> 0.315</td>\n",
       "      <td> 23</td>\n",
       "      <td> 1.2214</td>\n",
       "      <td> False</td>\n",
       "    </tr>\n",
       "  </tbody>\n",
       "</table>\n",
       "</div>"
      ],
      "text/plain": [
       "     num_preg  glucose_conc  diastolic_bp  thickness  insulin   bmi  \\\n",
       "763        10           101            76         48      180  32.9   \n",
       "764         2           122            70         27        0  36.8   \n",
       "765         5           121            72         23      112  26.2   \n",
       "766         1           126            60          0        0  30.1   \n",
       "767         1            93            70         31        0  30.4   \n",
       "\n",
       "     diab_pred  age    skin diabetes  \n",
       "763      0.171   63  1.8912    False  \n",
       "764      0.340   27  1.0638    False  \n",
       "765      0.245   30  0.9062    False  \n",
       "766      0.349   47  0.0000     True  \n",
       "767      0.315   23  1.2214    False  "
      ]
     },
     "execution_count": 6,
     "metadata": {},
     "output_type": "execute_result"
    }
   ],
   "source": [
    "df.tail(5)"
   ]
  },
  {
   "cell_type": "code",
   "execution_count": 7,
   "metadata": {},
   "outputs": [
    {
     "data": {
      "text/plain": [
       "False"
      ]
     },
     "execution_count": 7,
     "metadata": {},
     "output_type": "execute_result"
    }
   ],
   "source": [
    "df.isnull().values.any()"
   ]
  },
  {
   "cell_type": "code",
   "execution_count": 9,
   "metadata": {
    "collapsed": true
   },
   "outputs": [],
   "source": [
    "def plot_corr(df, size=11):\n",
    "    \"\"\"\n",
    "    Method to plot correlation between each pair of columns\n",
    "    \"\"\"\n",
    "    corr = df.corr()\n",
    "    fig, ax = plt.subplots(figsize=(size, size))\n",
    "    ax.matshow(corr)\n",
    "    plt.xticks(range(len(corr.columns)), corr.columns)\n",
    "    plt.yticks(range(len(corr.columns)), corr.columns)"
   ]
  },
  {
   "cell_type": "code",
   "execution_count": 14,
   "metadata": {},
   "outputs": [
    {
     "data": {
      "image/png": "[encoded data removed]",
      "text/plain": [
       "<matplotlib.figure.Figure at 0xa988ef0>"
      ]
     },
     "metadata": {},
     "output_type": "display_data"
    }
   ],
   "source": [
    "plot_corr(df)"
   ]
  },
  {
   "cell_type": "code",
   "execution_count": 15,
   "metadata": {},
   "outputs": [
    {
     "data": {
      "text/html": [
       "<div style=\"max-height:1000px;max-width:1500px;overflow:auto;\">\n",
       "<table border=\"1\" class=\"dataframe\">\n",
       "  <thead>\n",
       "    <tr style=\"text-align: right;\">\n",
       "      <th></th>\n",
       "      <th>num_preg</th>\n",
       "      <th>glucose_conc</th>\n",
       "      <th>diastolic_bp</th>\n",
       "      <th>thickness</th>\n",
       "      <th>insulin</th>\n",
       "      <th>bmi</th>\n",
       "      <th>diab_pred</th>\n",
       "      <th>age</th>\n",
       "      <th>diabetes</th>\n",
       "    </tr>\n",
       "  </thead>\n",
       "  <tbody>\n",
       "    <tr>\n",
       "      <th>num_preg</th>\n",
       "      <td> 1.000000</td>\n",
       "      <td> 0.129459</td>\n",
       "      <td> 0.141282</td>\n",
       "      <td>-0.081672</td>\n",
       "      <td>-0.073535</td>\n",
       "      <td> 0.017683</td>\n",
       "      <td>-0.033523</td>\n",
       "      <td> 0.544341</td>\n",
       "      <td> 0.221898</td>\n",
       "    </tr>\n",
       "    <tr>\n",
       "      <th>glucose_conc</th>\n",
       "      <td> 0.129459</td>\n",
       "      <td> 1.000000</td>\n",
       "      <td> 0.152590</td>\n",
       "      <td> 0.057328</td>\n",
       "      <td> 0.331357</td>\n",
       "      <td> 0.221071</td>\n",
       "      <td> 0.137337</td>\n",
       "      <td> 0.263514</td>\n",
       "      <td> 0.466581</td>\n",
       "    </tr>\n",
       "    <tr>\n",
       "      <th>diastolic_bp</th>\n",
       "      <td> 0.141282</td>\n",
       "      <td> 0.152590</td>\n",
       "      <td> 1.000000</td>\n",
       "      <td> 0.207371</td>\n",
       "      <td> 0.088933</td>\n",
       "      <td> 0.281805</td>\n",
       "      <td> 0.041265</td>\n",
       "      <td> 0.239528</td>\n",
       "      <td> 0.065068</td>\n",
       "    </tr>\n",
       "    <tr>\n",
       "      <th>thickness</th>\n",
       "      <td>-0.081672</td>\n",
       "      <td> 0.057328</td>\n",
       "      <td> 0.207371</td>\n",
       "      <td> 1.000000</td>\n",
       "      <td> 0.436783</td>\n",
       "      <td> 0.392573</td>\n",
       "      <td> 0.183928</td>\n",
       "      <td>-0.113970</td>\n",
       "      <td> 0.074752</td>\n",
       "    </tr>\n",
       "    <tr>\n",
       "      <th>insulin</th>\n",
       "      <td>-0.073535</td>\n",
       "      <td> 0.331357</td>\n",
       "      <td> 0.088933</td>\n",
       "      <td> 0.436783</td>\n",
       "      <td> 1.000000</td>\n",
       "      <td> 0.197859</td>\n",
       "      <td> 0.185071</td>\n",
       "      <td>-0.042163</td>\n",
       "      <td> 0.130548</td>\n",
       "    </tr>\n",
       "    <tr>\n",
       "      <th>bmi</th>\n",
       "      <td> 0.017683</td>\n",
       "      <td> 0.221071</td>\n",
       "      <td> 0.281805</td>\n",
       "      <td> 0.392573</td>\n",
       "      <td> 0.197859</td>\n",
       "      <td> 1.000000</td>\n",
       "      <td> 0.140647</td>\n",
       "      <td> 0.036242</td>\n",
       "      <td> 0.292695</td>\n",
       "    </tr>\n",
       "    <tr>\n",
       "      <th>diab_pred</th>\n",
       "      <td>-0.033523</td>\n",
       "      <td> 0.137337</td>\n",
       "      <td> 0.041265</td>\n",
       "      <td> 0.183928</td>\n",
       "      <td> 0.185071</td>\n",
       "      <td> 0.140647</td>\n",
       "      <td> 1.000000</td>\n",
       "      <td> 0.033561</td>\n",
       "      <td> 0.173844</td>\n",
       "    </tr>\n",
       "    <tr>\n",
       "      <th>age</th>\n",
       "      <td> 0.544341</td>\n",
       "      <td> 0.263514</td>\n",
       "      <td> 0.239528</td>\n",
       "      <td>-0.113970</td>\n",
       "      <td>-0.042163</td>\n",
       "      <td> 0.036242</td>\n",
       "      <td> 0.033561</td>\n",
       "      <td> 1.000000</td>\n",
       "      <td> 0.238356</td>\n",
       "    </tr>\n",
       "    <tr>\n",
       "      <th>diabetes</th>\n",
       "      <td> 0.221898</td>\n",
       "      <td> 0.466581</td>\n",
       "      <td> 0.065068</td>\n",
       "      <td> 0.074752</td>\n",
       "      <td> 0.130548</td>\n",
       "      <td> 0.292695</td>\n",
       "      <td> 0.173844</td>\n",
       "      <td> 0.238356</td>\n",
       "      <td> 1.000000</td>\n",
       "    </tr>\n",
       "  </tbody>\n",
       "</table>\n",
       "</div>"
      ],
      "text/plain": [
       "              num_preg  glucose_conc  diastolic_bp  thickness   insulin  \\\n",
       "num_preg      1.000000      0.129459      0.141282  -0.081672 -0.073535   \n",
       "glucose_conc  0.129459      1.000000      0.152590   0.057328  0.331357   \n",
       "diastolic_bp  0.141282      0.152590      1.000000   0.207371  0.088933   \n",
       "thickness    -0.081672      0.057328      0.207371   1.000000  0.436783   \n",
       "insulin      -0.073535      0.331357      0.088933   0.436783  1.000000   \n",
       "bmi           0.017683      0.221071      0.281805   0.392573  0.197859   \n",
       "diab_pred    -0.033523      0.137337      0.041265   0.183928  0.185071   \n",
       "age           0.544341      0.263514      0.239528  -0.113970 -0.042163   \n",
       "diabetes      0.221898      0.466581      0.065068   0.074752  0.130548   \n",
       "\n",
       "                   bmi  diab_pred       age  diabetes  \n",
       "num_preg      0.017683  -0.033523  0.544341  0.221898  \n",
       "glucose_conc  0.221071   0.137337  0.263514  0.466581  \n",
       "diastolic_bp  0.281805   0.041265  0.239528  0.065068  \n",
       "thickness     0.392573   0.183928 -0.113970  0.074752  \n",
       "insulin       0.197859   0.185071 -0.042163  0.130548  \n",
       "bmi           1.000000   0.140647  0.036242  0.292695  \n",
       "diab_pred     0.140647   1.000000  0.033561  0.173844  \n",
       "age           0.036242   0.033561  1.000000  0.238356  \n",
       "diabetes      0.292695   0.173844  0.238356  1.000000  "
      ]
     },
     "execution_count": 15,
     "metadata": {},
     "output_type": "execute_result"
    }
   ],
   "source": [
    "df.corr()"
   ]
  },
  {
   "cell_type": "code",
   "execution_count": 12,
   "metadata": {},
   "outputs": [
    {
     "data": {
      "text/html": [
       "<div style=\"max-height:1000px;max-width:1500px;overflow:auto;\">\n",
       "<table border=\"1\" class=\"dataframe\">\n",
       "  <thead>\n",
       "    <tr style=\"text-align: right;\">\n",
       "      <th></th>\n",
       "      <th>num_preg</th>\n",
       "      <th>glucose_conc</th>\n",
       "      <th>diastolic_bp</th>\n",
       "      <th>thickness</th>\n",
       "      <th>insulin</th>\n",
       "      <th>bmi</th>\n",
       "      <th>diab_pred</th>\n",
       "      <th>age</th>\n",
       "      <th>skin</th>\n",
       "      <th>diabetes</th>\n",
       "    </tr>\n",
       "  </thead>\n",
       "  <tbody>\n",
       "    <tr>\n",
       "      <th>0</th>\n",
       "      <td> 6</td>\n",
       "      <td> 148</td>\n",
       "      <td> 72</td>\n",
       "      <td> 35</td>\n",
       "      <td>   0</td>\n",
       "      <td> 33.6</td>\n",
       "      <td> 0.627</td>\n",
       "      <td> 50</td>\n",
       "      <td> 1.3790</td>\n",
       "      <td>  True</td>\n",
       "    </tr>\n",
       "    <tr>\n",
       "      <th>1</th>\n",
       "      <td> 1</td>\n",
       "      <td>  85</td>\n",
       "      <td> 66</td>\n",
       "      <td> 29</td>\n",
       "      <td>   0</td>\n",
       "      <td> 26.6</td>\n",
       "      <td> 0.351</td>\n",
       "      <td> 31</td>\n",
       "      <td> 1.1426</td>\n",
       "      <td> False</td>\n",
       "    </tr>\n",
       "    <tr>\n",
       "      <th>2</th>\n",
       "      <td> 8</td>\n",
       "      <td> 183</td>\n",
       "      <td> 64</td>\n",
       "      <td>  0</td>\n",
       "      <td>   0</td>\n",
       "      <td> 23.3</td>\n",
       "      <td> 0.672</td>\n",
       "      <td> 32</td>\n",
       "      <td> 0.0000</td>\n",
       "      <td>  True</td>\n",
       "    </tr>\n",
       "    <tr>\n",
       "      <th>3</th>\n",
       "      <td> 1</td>\n",
       "      <td>  89</td>\n",
       "      <td> 66</td>\n",
       "      <td> 23</td>\n",
       "      <td>  94</td>\n",
       "      <td> 28.1</td>\n",
       "      <td> 0.167</td>\n",
       "      <td> 21</td>\n",
       "      <td> 0.9062</td>\n",
       "      <td> False</td>\n",
       "    </tr>\n",
       "    <tr>\n",
       "      <th>4</th>\n",
       "      <td> 0</td>\n",
       "      <td> 137</td>\n",
       "      <td> 40</td>\n",
       "      <td> 35</td>\n",
       "      <td> 168</td>\n",
       "      <td> 43.1</td>\n",
       "      <td> 2.288</td>\n",
       "      <td> 33</td>\n",
       "      <td> 1.3790</td>\n",
       "      <td>  True</td>\n",
       "    </tr>\n",
       "  </tbody>\n",
       "</table>\n",
       "</div>"
      ],
      "text/plain": [
       "   num_preg  glucose_conc  diastolic_bp  thickness  insulin   bmi  diab_pred  \\\n",
       "0         6           148            72         35        0  33.6      0.627   \n",
       "1         1            85            66         29        0  26.6      0.351   \n",
       "2         8           183            64          0        0  23.3      0.672   \n",
       "3         1            89            66         23       94  28.1      0.167   \n",
       "4         0           137            40         35      168  43.1      2.288   \n",
       "\n",
       "   age    skin diabetes  \n",
       "0   50  1.3790     True  \n",
       "1   31  1.1426    False  \n",
       "2   32  0.0000     True  \n",
       "3   21  0.9062    False  \n",
       "4   33  1.3790     True  "
      ]
     },
     "execution_count": 12,
     "metadata": {},
     "output_type": "execute_result"
    }
   ],
   "source": [
    "df.head()"
   ]
  },
  {
   "cell_type": "code",
   "execution_count": 13,
   "metadata": {
    "collapsed": true
   },
   "outputs": [],
   "source": [
    "del df['skin']"
   ]
  },
  {
   "cell_type": "markdown",
   "metadata": {},
   "source": [
    "## Check Data Types"
   ]
  },
  {
   "cell_type": "code",
   "execution_count": 16,
   "metadata": {},
   "outputs": [
    {
     "data": {
      "text/html": [
       "<div style=\"max-height:1000px;max-width:1500px;overflow:auto;\">\n",
       "<table border=\"1\" class=\"dataframe\">\n",
       "  <thead>\n",
       "    <tr style=\"text-align: right;\">\n",
       "      <th></th>\n",
       "      <th>num_preg</th>\n",
       "      <th>glucose_conc</th>\n",
       "      <th>diastolic_bp</th>\n",
       "      <th>thickness</th>\n",
       "      <th>insulin</th>\n",
       "      <th>bmi</th>\n",
       "      <th>diab_pred</th>\n",
       "      <th>age</th>\n",
       "      <th>diabetes</th>\n",
       "    </tr>\n",
       "  </thead>\n",
       "  <tbody>\n",
       "    <tr>\n",
       "      <th>0</th>\n",
       "      <td> 6</td>\n",
       "      <td> 148</td>\n",
       "      <td> 72</td>\n",
       "      <td> 35</td>\n",
       "      <td>   0</td>\n",
       "      <td> 33.6</td>\n",
       "      <td> 0.627</td>\n",
       "      <td> 50</td>\n",
       "      <td>  True</td>\n",
       "    </tr>\n",
       "    <tr>\n",
       "      <th>1</th>\n",
       "      <td> 1</td>\n",
       "      <td>  85</td>\n",
       "      <td> 66</td>\n",
       "      <td> 29</td>\n",
       "      <td>   0</td>\n",
       "      <td> 26.6</td>\n",
       "      <td> 0.351</td>\n",
       "      <td> 31</td>\n",
       "      <td> False</td>\n",
       "    </tr>\n",
       "    <tr>\n",
       "      <th>2</th>\n",
       "      <td> 8</td>\n",
       "      <td> 183</td>\n",
       "      <td> 64</td>\n",
       "      <td>  0</td>\n",
       "      <td>   0</td>\n",
       "      <td> 23.3</td>\n",
       "      <td> 0.672</td>\n",
       "      <td> 32</td>\n",
       "      <td>  True</td>\n",
       "    </tr>\n",
       "    <tr>\n",
       "      <th>3</th>\n",
       "      <td> 1</td>\n",
       "      <td>  89</td>\n",
       "      <td> 66</td>\n",
       "      <td> 23</td>\n",
       "      <td>  94</td>\n",
       "      <td> 28.1</td>\n",
       "      <td> 0.167</td>\n",
       "      <td> 21</td>\n",
       "      <td> False</td>\n",
       "    </tr>\n",
       "    <tr>\n",
       "      <th>4</th>\n",
       "      <td> 0</td>\n",
       "      <td> 137</td>\n",
       "      <td> 40</td>\n",
       "      <td> 35</td>\n",
       "      <td> 168</td>\n",
       "      <td> 43.1</td>\n",
       "      <td> 2.288</td>\n",
       "      <td> 33</td>\n",
       "      <td>  True</td>\n",
       "    </tr>\n",
       "  </tbody>\n",
       "</table>\n",
       "</div>"
      ],
      "text/plain": [
       "   num_preg  glucose_conc  diastolic_bp  thickness  insulin   bmi  diab_pred  \\\n",
       "0         6           148            72         35        0  33.6      0.627   \n",
       "1         1            85            66         29        0  26.6      0.351   \n",
       "2         8           183            64          0        0  23.3      0.672   \n",
       "3         1            89            66         23       94  28.1      0.167   \n",
       "4         0           137            40         35      168  43.1      2.288   \n",
       "\n",
       "   age diabetes  \n",
       "0   50     True  \n",
       "1   31    False  \n",
       "2   32     True  \n",
       "3   21    False  \n",
       "4   33     True  "
      ]
     },
     "execution_count": 16,
     "metadata": {},
     "output_type": "execute_result"
    }
   ],
   "source": [
    "df.head(5)"
   ]
  },
  {
   "cell_type": "code",
   "execution_count": 17,
   "metadata": {
    "collapsed": true
   },
   "outputs": [],
   "source": [
    "# Changing Bool to int\n",
    "diabetes_map = {True:1, False:0}\n",
    "df['diabetes'] = df['diabetes'].map(diabetes_map)"
   ]
  },
  {
   "cell_type": "code",
   "execution_count": 18,
   "metadata": {},
   "outputs": [
    {
     "data": {
      "text/html": [
       "<div style=\"max-height:1000px;max-width:1500px;overflow:auto;\">\n",
       "<table border=\"1\" class=\"dataframe\">\n",
       "  <thead>\n",
       "    <tr style=\"text-align: right;\">\n",
       "      <th></th>\n",
       "      <th>num_preg</th>\n",
       "      <th>glucose_conc</th>\n",
       "      <th>diastolic_bp</th>\n",
       "      <th>thickness</th>\n",
       "      <th>insulin</th>\n",
       "      <th>bmi</th>\n",
       "      <th>diab_pred</th>\n",
       "      <th>age</th>\n",
       "      <th>diabetes</th>\n",
       "    </tr>\n",
       "  </thead>\n",
       "  <tbody>\n",
       "    <tr>\n",
       "      <th>0</th>\n",
       "      <td> 6</td>\n",
       "      <td> 148</td>\n",
       "      <td> 72</td>\n",
       "      <td> 35</td>\n",
       "      <td>   0</td>\n",
       "      <td> 33.6</td>\n",
       "      <td> 0.627</td>\n",
       "      <td> 50</td>\n",
       "      <td> 1</td>\n",
       "    </tr>\n",
       "    <tr>\n",
       "      <th>1</th>\n",
       "      <td> 1</td>\n",
       "      <td>  85</td>\n",
       "      <td> 66</td>\n",
       "      <td> 29</td>\n",
       "      <td>   0</td>\n",
       "      <td> 26.6</td>\n",
       "      <td> 0.351</td>\n",
       "      <td> 31</td>\n",
       "      <td> 0</td>\n",
       "    </tr>\n",
       "    <tr>\n",
       "      <th>2</th>\n",
       "      <td> 8</td>\n",
       "      <td> 183</td>\n",
       "      <td> 64</td>\n",
       "      <td>  0</td>\n",
       "      <td>   0</td>\n",
       "      <td> 23.3</td>\n",
       "      <td> 0.672</td>\n",
       "      <td> 32</td>\n",
       "      <td> 1</td>\n",
       "    </tr>\n",
       "    <tr>\n",
       "      <th>3</th>\n",
       "      <td> 1</td>\n",
       "      <td>  89</td>\n",
       "      <td> 66</td>\n",
       "      <td> 23</td>\n",
       "      <td>  94</td>\n",
       "      <td> 28.1</td>\n",
       "      <td> 0.167</td>\n",
       "      <td> 21</td>\n",
       "      <td> 0</td>\n",
       "    </tr>\n",
       "    <tr>\n",
       "      <th>4</th>\n",
       "      <td> 0</td>\n",
       "      <td> 137</td>\n",
       "      <td> 40</td>\n",
       "      <td> 35</td>\n",
       "      <td> 168</td>\n",
       "      <td> 43.1</td>\n",
       "      <td> 2.288</td>\n",
       "      <td> 33</td>\n",
       "      <td> 1</td>\n",
       "    </tr>\n",
       "  </tbody>\n",
       "</table>\n",
       "</div>"
      ],
      "text/plain": [
       "   num_preg  glucose_conc  diastolic_bp  thickness  insulin   bmi  diab_pred  \\\n",
       "0         6           148            72         35        0  33.6      0.627   \n",
       "1         1            85            66         29        0  26.6      0.351   \n",
       "2         8           183            64          0        0  23.3      0.672   \n",
       "3         1            89            66         23       94  28.1      0.167   \n",
       "4         0           137            40         35      168  43.1      2.288   \n",
       "\n",
       "   age  diabetes  \n",
       "0   50         1  \n",
       "1   31         0  \n",
       "2   32         1  \n",
       "3   21         0  \n",
       "4   33         1  "
      ]
     },
     "execution_count": 18,
     "metadata": {},
     "output_type": "execute_result"
    }
   ],
   "source": [
    "df.head(5)"
   ]
  },
  {
   "cell_type": "markdown",
   "metadata": {},
   "source": [
    "## Verify whether the data has a rare event (anomalies)"
   ]
  },
  {
   "cell_type": "code",
   "execution_count": 26,
   "metadata": {},
   "outputs": [
    {
     "name": "stdout",
     "output_type": "stream",
     "text": [
      "Number of Trues: 268, Percentage:34.90\n",
      "Number of Falses: 500, Percentage:65.10\n"
     ]
    }
   ],
   "source": [
    "num_true = len(df.loc[df['diabetes']==True])\n",
    "num_false = len(df.loc[df['diabetes']==False])\n",
    "print (\"Number of Trues: {}, Percentage:{:2.2f}\".format(num_true, (num_true*1.0 / (num_true+num_false))*100))\n",
    "print (\"Number of Falses: {}, Percentage:{:2.2f}\".format(num_false, (num_false*1.0 / (num_true+num_false))*100))"
   ]
  },
  {
   "cell_type": "markdown",
   "metadata": {},
   "source": [
    "## Maintain data manipulations to prevent distorting meaning of data\n",
    "# Select the right algorithm"
   ]
  },
  {
   "cell_type": "code",
   "execution_count": 27,
   "metadata": {},
   "outputs": [
    {
     "data": {
      "text/html": [
       "<div style=\"max-height:1000px;max-width:1500px;overflow:auto;\">\n",
       "<table border=\"1\" class=\"dataframe\">\n",
       "  <thead>\n",
       "    <tr style=\"text-align: right;\">\n",
       "      <th></th>\n",
       "      <th>num_preg</th>\n",
       "      <th>glucose_conc</th>\n",
       "      <th>diastolic_bp</th>\n",
       "      <th>thickness</th>\n",
       "      <th>insulin</th>\n",
       "      <th>bmi</th>\n",
       "      <th>diab_pred</th>\n",
       "      <th>age</th>\n",
       "      <th>diabetes</th>\n",
       "    </tr>\n",
       "  </thead>\n",
       "  <tbody>\n",
       "    <tr>\n",
       "      <th>0</th>\n",
       "      <td> 6</td>\n",
       "      <td> 148</td>\n",
       "      <td> 72</td>\n",
       "      <td> 35</td>\n",
       "      <td>   0</td>\n",
       "      <td> 33.6</td>\n",
       "      <td> 0.627</td>\n",
       "      <td> 50</td>\n",
       "      <td> 1</td>\n",
       "    </tr>\n",
       "    <tr>\n",
       "      <th>1</th>\n",
       "      <td> 1</td>\n",
       "      <td>  85</td>\n",
       "      <td> 66</td>\n",
       "      <td> 29</td>\n",
       "      <td>   0</td>\n",
       "      <td> 26.6</td>\n",
       "      <td> 0.351</td>\n",
       "      <td> 31</td>\n",
       "      <td> 0</td>\n",
       "    </tr>\n",
       "    <tr>\n",
       "      <th>2</th>\n",
       "      <td> 8</td>\n",
       "      <td> 183</td>\n",
       "      <td> 64</td>\n",
       "      <td>  0</td>\n",
       "      <td>   0</td>\n",
       "      <td> 23.3</td>\n",
       "      <td> 0.672</td>\n",
       "      <td> 32</td>\n",
       "      <td> 1</td>\n",
       "    </tr>\n",
       "    <tr>\n",
       "      <th>3</th>\n",
       "      <td> 1</td>\n",
       "      <td>  89</td>\n",
       "      <td> 66</td>\n",
       "      <td> 23</td>\n",
       "      <td>  94</td>\n",
       "      <td> 28.1</td>\n",
       "      <td> 0.167</td>\n",
       "      <td> 21</td>\n",
       "      <td> 0</td>\n",
       "    </tr>\n",
       "    <tr>\n",
       "      <th>4</th>\n",
       "      <td> 0</td>\n",
       "      <td> 137</td>\n",
       "      <td> 40</td>\n",
       "      <td> 35</td>\n",
       "      <td> 168</td>\n",
       "      <td> 43.1</td>\n",
       "      <td> 2.288</td>\n",
       "      <td> 33</td>\n",
       "      <td> 1</td>\n",
       "    </tr>\n",
       "  </tbody>\n",
       "</table>\n",
       "</div>"
      ],
      "text/plain": [
       "   num_preg  glucose_conc  diastolic_bp  thickness  insulin   bmi  diab_pred  \\\n",
       "0         6           148            72         35        0  33.6      0.627   \n",
       "1         1            85            66         29        0  26.6      0.351   \n",
       "2         8           183            64          0        0  23.3      0.672   \n",
       "3         1            89            66         23       94  28.1      0.167   \n",
       "4         0           137            40         35      168  43.1      2.288   \n",
       "\n",
       "   age  diabetes  \n",
       "0   50         1  \n",
       "1   31         0  \n",
       "2   32         1  \n",
       "3   21         0  \n",
       "4   33         1  "
      ]
     },
     "execution_count": 27,
     "metadata": {},
     "output_type": "execute_result"
    }
   ],
   "source": [
    "df.head(5)"
   ]
  },
  {
   "cell_type": "markdown",
   "metadata": {},
   "source": [
    "## After choosing Naive Bayes, train the model after splitting the data (70% train and 30% test)\n",
    "# Splitting Data"
   ]
  },
  {
   "cell_type": "code",
   "execution_count": 28,
   "metadata": {},
   "outputs": [
    {
     "name": "stderr",
     "output_type": "stream",
     "text": [
      "C:\\ProgramData\\Anaconda2\\lib\\site-packages\\sklearn\\cross_validation.py:41: DeprecationWarning: This module was deprecated in version 0.18 in favor of the model_selection module into which all the refactored classes and functions are moved. Also note that the interface of the new CV iterators are different from that of this module. This module will be removed in 0.20.\n",
      "  \"This module will be removed in 0.20.\", DeprecationWarning)\n"
     ]
    }
   ],
   "source": [
    "from sklearn.cross_validation import train_test_split\n",
    "feature_col_names = ['num_preg', 'glucose_conc', 'diastolic_bp', 'thickness', 'insulin', 'bmi', 'diab_pred', 'age']\n",
    "predicted_class_names = ['diabetes']\n",
    "x = df[feature_col_names].values\n",
    "y = df[predicted_class_names].values\n",
    "split_test_size = 0.30\n",
    "X_train, X_test, Y_train, Y_test = train_test_split(x, y, test_size=split_test_size, random_state=42)"
   ]
  },
  {
   "cell_type": "code",
   "execution_count": 30,
   "metadata": {},
   "outputs": [
    {
     "name": "stdout",
     "output_type": "stream",
     "text": [
      "69.92 in training set.\n",
      "30.08 in test set.\n"
     ]
    }
   ],
   "source": [
    "print (\"{:0.2f} in training set.\".format((len(X_train)*1.0/len(df.index))*100))\n",
    "print (\"{:0.2f} in test set.\".format((len(X_test)*1.0/len(df.index))*100))"
   ]
  },
  {
   "cell_type": "markdown",
   "metadata": {},
   "source": [
    "## Verify split data"
   ]
  },
  {
   "cell_type": "markdown",
   "metadata": {},
   "source": [
    "# Post-split Data preperation"
   ]
  },
  {
   "cell_type": "code",
   "execution_count": 31,
   "metadata": {},
   "outputs": [
    {
     "data": {
      "text/html": [
       "<div style=\"max-height:1000px;max-width:1500px;overflow:auto;\">\n",
       "<table border=\"1\" class=\"dataframe\">\n",
       "  <thead>\n",
       "    <tr style=\"text-align: right;\">\n",
       "      <th></th>\n",
       "      <th>num_preg</th>\n",
       "      <th>glucose_conc</th>\n",
       "      <th>diastolic_bp</th>\n",
       "      <th>thickness</th>\n",
       "      <th>insulin</th>\n",
       "      <th>bmi</th>\n",
       "      <th>diab_pred</th>\n",
       "      <th>age</th>\n",
       "      <th>diabetes</th>\n",
       "    </tr>\n",
       "  </thead>\n",
       "  <tbody>\n",
       "    <tr>\n",
       "      <th>0</th>\n",
       "      <td> 6</td>\n",
       "      <td> 148</td>\n",
       "      <td> 72</td>\n",
       "      <td> 35</td>\n",
       "      <td>   0</td>\n",
       "      <td> 33.6</td>\n",
       "      <td> 0.627</td>\n",
       "      <td> 50</td>\n",
       "      <td> 1</td>\n",
       "    </tr>\n",
       "    <tr>\n",
       "      <th>1</th>\n",
       "      <td> 1</td>\n",
       "      <td>  85</td>\n",
       "      <td> 66</td>\n",
       "      <td> 29</td>\n",
       "      <td>   0</td>\n",
       "      <td> 26.6</td>\n",
       "      <td> 0.351</td>\n",
       "      <td> 31</td>\n",
       "      <td> 0</td>\n",
       "    </tr>\n",
       "    <tr>\n",
       "      <th>2</th>\n",
       "      <td> 8</td>\n",
       "      <td> 183</td>\n",
       "      <td> 64</td>\n",
       "      <td>  0</td>\n",
       "      <td>   0</td>\n",
       "      <td> 23.3</td>\n",
       "      <td> 0.672</td>\n",
       "      <td> 32</td>\n",
       "      <td> 1</td>\n",
       "    </tr>\n",
       "    <tr>\n",
       "      <th>3</th>\n",
       "      <td> 1</td>\n",
       "      <td>  89</td>\n",
       "      <td> 66</td>\n",
       "      <td> 23</td>\n",
       "      <td>  94</td>\n",
       "      <td> 28.1</td>\n",
       "      <td> 0.167</td>\n",
       "      <td> 21</td>\n",
       "      <td> 0</td>\n",
       "    </tr>\n",
       "    <tr>\n",
       "      <th>4</th>\n",
       "      <td> 0</td>\n",
       "      <td> 137</td>\n",
       "      <td> 40</td>\n",
       "      <td> 35</td>\n",
       "      <td> 168</td>\n",
       "      <td> 43.1</td>\n",
       "      <td> 2.288</td>\n",
       "      <td> 33</td>\n",
       "      <td> 1</td>\n",
       "    </tr>\n",
       "  </tbody>\n",
       "</table>\n",
       "</div>"
      ],
      "text/plain": [
       "   num_preg  glucose_conc  diastolic_bp  thickness  insulin   bmi  diab_pred  \\\n",
       "0         6           148            72         35        0  33.6      0.627   \n",
       "1         1            85            66         29        0  26.6      0.351   \n",
       "2         8           183            64          0        0  23.3      0.672   \n",
       "3         1            89            66         23       94  28.1      0.167   \n",
       "4         0           137            40         35      168  43.1      2.288   \n",
       "\n",
       "   age  diabetes  \n",
       "0   50         1  \n",
       "1   31         0  \n",
       "2   32         1  \n",
       "3   21         0  \n",
       "4   33         1  "
      ]
     },
     "execution_count": 31,
     "metadata": {},
     "output_type": "execute_result"
    }
   ],
   "source": [
    "df.head()"
   ]
  },
  {
   "cell_type": "code",
   "execution_count": 32,
   "metadata": {
    "collapsed": true
   },
   "outputs": [],
   "source": [
    "from sklearn.preprocessing import Imputer\n",
    "fill_0 = Imputer(missing_values=0, strategy=\"mean\", axis=0)\n",
    "X_train = fill_0.fit_transform(X_train)\n",
    "X_test = fill_0.fit_transform(X_test)"
   ]
  },
  {
   "cell_type": "markdown",
   "metadata": {},
   "source": [
    "# Train algorithm"
   ]
  },
  {
   "cell_type": "code",
   "execution_count": 33,
   "metadata": {},
   "outputs": [
    {
     "data": {
      "text/plain": [
       "GaussianNB(priors=None)"
      ]
     },
     "execution_count": 33,
     "metadata": {},
     "output_type": "execute_result"
    }
   ],
   "source": [
    "from sklearn.naive_bayes import GaussianNB\n",
    "nb_model = GaussianNB()\n",
    "nb_model.fit(X_train, Y_train.ravel())"
   ]
  },
  {
   "cell_type": "markdown",
   "metadata": {},
   "source": [
    "# Check accuracy of model"
   ]
  },
  {
   "cell_type": "code",
   "execution_count": 34,
   "metadata": {},
   "outputs": [
    {
     "name": "stdout",
     "output_type": "stream",
     "text": [
      "Accuracy: 0.7542\n"
     ]
    }
   ],
   "source": [
    "nb_predict_train = nb_model.predict(X_train)\n",
    "from sklearn import metrics\n",
    "print (\"Accuracy: {:.4f}\".format(metrics.accuracy_score(Y_train, nb_predict_train)))"
   ]
  },
  {
   "cell_type": "code",
   "execution_count": 36,
   "metadata": {},
   "outputs": [
    {
     "name": "stdout",
     "output_type": "stream",
     "text": [
      "Accuracy: 0.7359\n"
     ]
    }
   ],
   "source": [
    "nb_predict_test = nb_model.predict(X_test)\n",
    "from sklearn import metrics\n",
    "print (\"Accuracy: {:.4f}\".format(metrics.accuracy_score(Y_test, nb_predict_train)))"
   ]
  },
  {
   "cell_type": "markdown",
   "metadata": {},
   "source": [
    "### Verifying confusion matrix and classification reports"
   ]
  },
  {
   "cell_type": "code",
   "execution_count": 37,
   "metadata": {},
   "outputs": [
    {
     "name": "stdout",
     "output_type": "stream",
     "text": [
      "Confusion Matrix\n",
      "[[ 52  28]\n",
      " [ 33 118]]\n",
      "Classification Report\n",
      "             precision    recall  f1-score   support\n",
      "\n",
      "          1       0.61      0.65      0.63        80\n",
      "          0       0.81      0.78      0.79       151\n",
      "\n",
      "avg / total       0.74      0.74      0.74       231\n",
      "\n"
     ]
    }
   ],
   "source": [
    "print (\"Confusion Matrix\")\n",
    "print (\"{}\".format(metrics.confusion_matrix(Y_test, nb_predict_test, labels=[1, 0])))\n",
    "print (\"Classification Report\")\n",
    "print (\"{}\".format(metrics.classification_report(Y_test, nb_predict_test, labels=[1, 0])))"
   ]
  },
  {
   "cell_type": "code",
   "execution_count": null,
   "metadata": {
    "collapsed": true
   },
   "outputs": [],
   "source": []
  }
 ],
 "metadata": {
  "kernelspec": {
   "display_name": "Python 2",
   "language": "python",
   "name": "python2"
  },
  "language_info": {
   "codemirror_mode": {
    "name": "ipython",
    "version": 2
   },
   "file_extension": ".py",
   "mimetype": "text/x-python",
   "name": "python",
   "nbconvert_exporter": "python",
   "pygments_lexer": "ipython2",
   "version": "2.7.13"
  }
 },
 "nbformat": 4,
 "nbformat_minor": 2
}
